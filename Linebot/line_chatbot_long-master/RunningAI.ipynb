{
 "cells": [
  {
   "cell_type": "code",
   "execution_count": 1,
   "metadata": {},
   "outputs": [],
   "source": [
    "# RunningAI"
   ]
  },
  {
   "cell_type": "code",
   "execution_count": 2,
   "metadata": {},
   "outputs": [],
   "source": [
    "\"\"\"\n",
    "\n",
    "啟用伺服器基本樣板\n",
    "\n",
    "\"\"\"\n",
    "\n",
    "# 引用Web Server套件\n",
    "from flask import Flask, request, abort\n",
    "\n",
    "# 從linebot 套件包裡引用 LineBotApi 與 WebhookHandler 類別\n",
    "from linebot import (\n",
    "    LineBotApi, WebhookHandler\n",
    ")\n",
    "\n",
    "# 引用無效簽章錯誤\n",
    "from linebot.exceptions import (\n",
    "    InvalidSignatureError\n",
    ")\n",
    "\n",
    "# 載入json處理套件\n",
    "import json\n",
    "\n",
    "# 載入基礎設定檔\n",
    "secretFileContentJson=json.load(open(\"../line_secret_key\",'r'))\n",
    "server_url=secretFileContentJson.get(\"server_url\")\n",
    "\n",
    "# 設定Server啟用細節\n",
    "app = Flask(__name__,static_url_path = \"/images\" , static_folder = \"../images/\")\n",
    "\n",
    "# 生成實體物件\n",
    "line_bot_api = LineBotApi(secretFileContentJson.get(\"channel_access_token\"))\n",
    "handler = WebhookHandler(secretFileContentJson.get(\"secret_key\"))\n",
    "\n",
    "# 啟動server對外接口，使Line能丟消息進來\n",
    "@app.route(\"/\", methods=['POST'])\n",
    "def callback():\n",
    "    # get X-Line-Signature header value\n",
    "    signature = request.headers['X-Line-Signature']\n",
    "\n",
    "    # get request body as text\n",
    "    body = request.get_data(as_text=True)\n",
    "    app.logger.info(\"Request body: \" + body)\n",
    "\n",
    "    # handle webhook body\n",
    "    try:\n",
    "        handler.handle(body, signature)\n",
    "    except InvalidSignatureError:\n",
    "        abort(400)\n",
    "\n",
    "    return 'OK'"
   ]
  },
  {
   "cell_type": "code",
   "execution_count": 3,
   "metadata": {},
   "outputs": [],
   "source": [
    "# 5.歷史紀錄"
   ]
  },
  {
   "cell_type": "code",
   "execution_count": null,
   "metadata": {},
   "outputs": [],
   "source": []
  },
  {
   "cell_type": "code",
   "execution_count": 4,
   "metadata": {},
   "outputs": [],
   "source": [
    "# 6.聯絡我們"
   ]
  },
  {
   "cell_type": "code",
   "execution_count": 5,
   "metadata": {},
   "outputs": [
    {
     "name": "stdout",
     "output_type": "stream",
     "text": [
      "{'type': 'text', 'text': '                 專案團隊\\n-------------------------------------------------\\n曾韋翔\\n                 0316ff8@gmail.com\\n陳子恩\\n                 0316ff8@gmail.com\\n林尚輝\\n                 0316ff8@gmail.com\\n徐右儒\\n                 0316ff8@gmail.com\\n陳正龍\\n                 0316ff8@gmail.com\\n范綱欣\\n                 0316ff8@gmail.com'}\n"
     ]
    }
   ],
   "source": [
    "\n",
    "jsonString = \"\"\"\n",
    "{\n",
    "  \"type\": \"text\",\n",
    "  \"text\": \"                 專案團隊\\n-------------------------------------------------\\n曾韋翔\\n                 0316ff8@gmail.com\\n陳子恩\\n                 0316ff8@gmail.com\\n林尚輝\\n                 0316ff8@gmail.com\\n徐右儒\\n                 0316ff8@gmail.com\\n陳正龍\\n                 0316ff8@gmail.com\\n范綱欣\\n                 0316ff8@gmail.com\"\n",
    "}\n",
    "\"\"\"\n",
    "\n",
    "import json\n",
    "jsonDict = json.loads(jsonString, strict=False)\n",
    "\n",
    "print(jsonDict)"
   ]
  },
  {
   "cell_type": "code",
   "execution_count": 6,
   "metadata": {},
   "outputs": [
    {
     "name": "stdout",
     "output_type": "stream",
     "text": [
      "{\"text\": \"                 \\u5c08\\u6848\\u5718\\u968a\\n-------------------------------------------------\\n\\u66fe\\u97cb\\u7fd4\\n                 0316ff8@gmail.com\\n\\u9673\\u5b50\\u6069\\n                 0316ff8@gmail.com\\n\\u6797\\u5c1a\\u8f1d\\n                 0316ff8@gmail.com\\n\\u5f90\\u53f3\\u5112\\n                 0316ff8@gmail.com\\n\\u9673\\u6b63\\u9f8d\\n                 0316ff8@gmail.com\\n\\u8303\\u7db1\\u6b23\\n                 0316ff8@gmail.com\", \"type\": \"text\"}\n"
     ]
    }
   ],
   "source": [
    "from linebot.models import (\n",
    "    MessageEvent, TextMessage, TextSendMessage,\n",
    ")\n",
    "\n",
    "# 將先前轉入的jsonDict 放置進此方法內\n",
    "jsonDictToTextSendMessage =  TextSendMessage.new_from_json_dict(jsonDict)\n",
    "print(jsonDictToTextSendMessage)"
   ]
  },
  {
   "cell_type": "code",
   "execution_count": 7,
   "metadata": {},
   "outputs": [],
   "source": [
    "# 告知handler，當用戶收到文字消息時，作下列辦法\n",
    "@handler.add(MessageEvent, message=TextMessage)\n",
    "def replyText(event):\n",
    "    if '聯絡我們' == event.message.text:\n",
    "        line_bot_api.reply_message(\n",
    "            event.reply_token,\n",
    "            jsonDictToTextSendMessage\n",
    "        )\n"
   ]
  },
  {
   "cell_type": "code",
   "execution_count": null,
   "metadata": {},
   "outputs": [
    {
     "name": "stdout",
     "output_type": "stream",
     "text": [
      " * Serving Flask app \"__main__\" (lazy loading)\n",
      " * Environment: production\n",
      "   WARNING: Do not use the development server in a production environment.\n",
      "   Use a production WSGI server instead.\n",
      " * Debug mode: off\n"
     ]
    },
    {
     "name": "stderr",
     "output_type": "stream",
     "text": [
      " * Running on http://0.0.0.0:5000/ (Press CTRL+C to quit)\n",
      "172.19.0.4 - - [20/Oct/2019 13:13:14] \"POST / HTTP/1.1\" 200 -\n",
      "172.19.0.4 - - [20/Oct/2019 13:13:17] \"POST / HTTP/1.1\" 200 -\n"
     ]
    }
   ],
   "source": [
    "'''\n",
    "\n",
    "執行此句，啟動Server，觀察後，按左上方塊，停用Server\n",
    "\n",
    "'''\n",
    "\n",
    "if __name__ == \"__main__\":\n",
    "    app.run(host='0.0.0.0')"
   ]
  },
  {
   "cell_type": "code",
   "execution_count": null,
   "metadata": {},
   "outputs": [],
   "source": []
  }
 ],
 "metadata": {
  "kernelspec": {
   "display_name": "Python 3",
   "language": "python",
   "name": "python3"
  },
  "language_info": {
   "codemirror_mode": {
    "name": "ipython",
    "version": 3
   },
   "file_extension": ".py",
   "mimetype": "text/x-python",
   "name": "python",
   "nbconvert_exporter": "python",
   "pygments_lexer": "ipython3",
   "version": "3.7.3"
  }
 },
 "nbformat": 4,
 "nbformat_minor": 2
}
